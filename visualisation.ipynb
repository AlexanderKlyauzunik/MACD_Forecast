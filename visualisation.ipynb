{
 "cells": [
  {
   "cell_type": "code",
   "execution_count": 34,
   "metadata": {},
   "outputs": [
    {
     "data": {
      "text/html": [
       "<div>\n",
       "<style scoped>\n",
       "    .dataframe tbody tr th:only-of-type {\n",
       "        vertical-align: middle;\n",
       "    }\n",
       "\n",
       "    .dataframe tbody tr th {\n",
       "        vertical-align: top;\n",
       "    }\n",
       "\n",
       "    .dataframe thead th {\n",
       "        text-align: right;\n",
       "    }\n",
       "</style>\n",
       "<table border=\"1\" class=\"dataframe\">\n",
       "  <thead>\n",
       "    <tr style=\"text-align: right;\">\n",
       "      <th></th>\n",
       "      <th>open</th>\n",
       "      <th>high</th>\n",
       "      <th>low</th>\n",
       "      <th>close</th>\n",
       "      <th>volume</th>\n",
       "      <th>quote_volume</th>\n",
       "      <th>count</th>\n",
       "      <th>taker_buy_volume</th>\n",
       "      <th>taker_buy_quote_volume</th>\n",
       "    </tr>\n",
       "    <tr>\n",
       "      <th>open_time</th>\n",
       "      <th></th>\n",
       "      <th></th>\n",
       "      <th></th>\n",
       "      <th></th>\n",
       "      <th></th>\n",
       "      <th></th>\n",
       "      <th></th>\n",
       "      <th></th>\n",
       "      <th></th>\n",
       "    </tr>\n",
       "  </thead>\n",
       "  <tbody>\n",
       "    <tr>\n",
       "      <th>1635725100000</th>\n",
       "      <td>191.43</td>\n",
       "      <td>192.02</td>\n",
       "      <td>191.37</td>\n",
       "      <td>192.02</td>\n",
       "      <td>2793.815</td>\n",
       "      <td>5.355669e+05</td>\n",
       "      <td>1297</td>\n",
       "      <td>1385.168</td>\n",
       "      <td>2.655765e+05</td>\n",
       "    </tr>\n",
       "    <tr>\n",
       "      <th>1635725400000</th>\n",
       "      <td>192.02</td>\n",
       "      <td>193.32</td>\n",
       "      <td>191.93</td>\n",
       "      <td>193.01</td>\n",
       "      <td>10168.770</td>\n",
       "      <td>1.960809e+06</td>\n",
       "      <td>3851</td>\n",
       "      <td>5928.260</td>\n",
       "      <td>1.143253e+06</td>\n",
       "    </tr>\n",
       "    <tr>\n",
       "      <th>1635725700000</th>\n",
       "      <td>192.98</td>\n",
       "      <td>193.76</td>\n",
       "      <td>192.92</td>\n",
       "      <td>193.62</td>\n",
       "      <td>8579.165</td>\n",
       "      <td>1.659771e+06</td>\n",
       "      <td>2904</td>\n",
       "      <td>3799.094</td>\n",
       "      <td>7.349429e+05</td>\n",
       "    </tr>\n",
       "    <tr>\n",
       "      <th>1635726000000</th>\n",
       "      <td>193.60</td>\n",
       "      <td>193.72</td>\n",
       "      <td>193.02</td>\n",
       "      <td>193.37</td>\n",
       "      <td>4839.350</td>\n",
       "      <td>9.358926e+05</td>\n",
       "      <td>1951</td>\n",
       "      <td>2065.522</td>\n",
       "      <td>3.995075e+05</td>\n",
       "    </tr>\n",
       "    <tr>\n",
       "      <th>1635726300000</th>\n",
       "      <td>193.36</td>\n",
       "      <td>193.69</td>\n",
       "      <td>193.31</td>\n",
       "      <td>193.39</td>\n",
       "      <td>4937.114</td>\n",
       "      <td>9.553264e+05</td>\n",
       "      <td>1758</td>\n",
       "      <td>2668.693</td>\n",
       "      <td>5.164217e+05</td>\n",
       "    </tr>\n",
       "    <tr>\n",
       "      <th>...</th>\n",
       "      <td>...</td>\n",
       "      <td>...</td>\n",
       "      <td>...</td>\n",
       "      <td>...</td>\n",
       "      <td>...</td>\n",
       "      <td>...</td>\n",
       "      <td>...</td>\n",
       "      <td>...</td>\n",
       "      <td>...</td>\n",
       "    </tr>\n",
       "    <tr>\n",
       "      <th>1638315300000</th>\n",
       "      <td>208.33</td>\n",
       "      <td>208.91</td>\n",
       "      <td>208.15</td>\n",
       "      <td>208.77</td>\n",
       "      <td>4036.863</td>\n",
       "      <td>8.414236e+05</td>\n",
       "      <td>1373</td>\n",
       "      <td>1840.337</td>\n",
       "      <td>3.837659e+05</td>\n",
       "    </tr>\n",
       "    <tr>\n",
       "      <th>1638315600000</th>\n",
       "      <td>208.78</td>\n",
       "      <td>209.18</td>\n",
       "      <td>208.77</td>\n",
       "      <td>209.00</td>\n",
       "      <td>2471.871</td>\n",
       "      <td>5.165802e+05</td>\n",
       "      <td>1203</td>\n",
       "      <td>1103.075</td>\n",
       "      <td>2.305155e+05</td>\n",
       "    </tr>\n",
       "    <tr>\n",
       "      <th>1638315900000</th>\n",
       "      <td>209.00</td>\n",
       "      <td>209.19</td>\n",
       "      <td>207.60</td>\n",
       "      <td>207.73</td>\n",
       "      <td>5946.212</td>\n",
       "      <td>1.237775e+06</td>\n",
       "      <td>2159</td>\n",
       "      <td>1900.718</td>\n",
       "      <td>3.957291e+05</td>\n",
       "    </tr>\n",
       "    <tr>\n",
       "      <th>1638316200000</th>\n",
       "      <td>207.75</td>\n",
       "      <td>208.45</td>\n",
       "      <td>207.10</td>\n",
       "      <td>208.16</td>\n",
       "      <td>8869.356</td>\n",
       "      <td>1.841825e+06</td>\n",
       "      <td>3102</td>\n",
       "      <td>4035.011</td>\n",
       "      <td>8.379854e+05</td>\n",
       "    </tr>\n",
       "    <tr>\n",
       "      <th>1638316500000</th>\n",
       "      <td>208.15</td>\n",
       "      <td>208.38</td>\n",
       "      <td>207.57</td>\n",
       "      <td>207.96</td>\n",
       "      <td>4241.376</td>\n",
       "      <td>8.824013e+05</td>\n",
       "      <td>1824</td>\n",
       "      <td>2140.193</td>\n",
       "      <td>4.452919e+05</td>\n",
       "    </tr>\n",
       "  </tbody>\n",
       "</table>\n",
       "<p>8639 rows × 9 columns</p>\n",
       "</div>"
      ],
      "text/plain": [
       "                 open    high     low   close     volume  quote_volume  count  \\\n",
       "open_time                                                                       \n",
       "1635725100000  191.43  192.02  191.37  192.02   2793.815  5.355669e+05   1297   \n",
       "1635725400000  192.02  193.32  191.93  193.01  10168.770  1.960809e+06   3851   \n",
       "1635725700000  192.98  193.76  192.92  193.62   8579.165  1.659771e+06   2904   \n",
       "1635726000000  193.60  193.72  193.02  193.37   4839.350  9.358926e+05   1951   \n",
       "1635726300000  193.36  193.69  193.31  193.39   4937.114  9.553264e+05   1758   \n",
       "...               ...     ...     ...     ...        ...           ...    ...   \n",
       "1638315300000  208.33  208.91  208.15  208.77   4036.863  8.414236e+05   1373   \n",
       "1638315600000  208.78  209.18  208.77  209.00   2471.871  5.165802e+05   1203   \n",
       "1638315900000  209.00  209.19  207.60  207.73   5946.212  1.237775e+06   2159   \n",
       "1638316200000  207.75  208.45  207.10  208.16   8869.356  1.841825e+06   3102   \n",
       "1638316500000  208.15  208.38  207.57  207.96   4241.376  8.824013e+05   1824   \n",
       "\n",
       "               taker_buy_volume  taker_buy_quote_volume  \n",
       "open_time                                                \n",
       "1635725100000          1385.168            2.655765e+05  \n",
       "1635725400000          5928.260            1.143253e+06  \n",
       "1635725700000          3799.094            7.349429e+05  \n",
       "1635726000000          2065.522            3.995075e+05  \n",
       "1635726300000          2668.693            5.164217e+05  \n",
       "...                         ...                     ...  \n",
       "1638315300000          1840.337            3.837659e+05  \n",
       "1638315600000          1103.075            2.305155e+05  \n",
       "1638315900000          1900.718            3.957291e+05  \n",
       "1638316200000          4035.011            8.379854e+05  \n",
       "1638316500000          2140.193            4.452919e+05  \n",
       "\n",
       "[8639 rows x 9 columns]"
      ]
     },
     "execution_count": 34,
     "metadata": {},
     "output_type": "execute_result"
    }
   ],
   "source": [
    "from math import floor\n",
    "import pandas as pd\n",
    "import os\n",
    "from binance.client import Client\n",
    "import datetime, time\n",
    "import numpy as np\n",
    "\n",
    "# howLong = 2 * 365\n",
    "#     # Calculate the timestamps for the binance api function\n",
    "# untilThisDate = datetime.datetime.now()\n",
    "# sinceThisDate = untilThisDate - datetime.timedelta(days = howLong)\n",
    "# client = Client(api_key, api_secret)\n",
    "#     # Execute the query from binance - timestamps must be converted to strings !\n",
    "# candle = client.get_historical_klines(\"BNBBTC\", Client.KLINE_INTERVAL_1MINUTE, str(sinceThisDate), str(untilThisDate))\n",
    "\n",
    "#     # Create a dataframe to label all the columns returned by binance so we work with them later.\n",
    "# df = pd.DataFrame(candle, columns=['dateTime', 'open', 'high', 'low', 'close', 'volume', 'closeTime', 'quoteAssetVolume', 'numberOfTrades', 'takerBuyBaseVol', 'takerBuyQuoteVol', 'ignore'])\n",
    "#     # as timestamp is returned in ms, let us convert this back to proper timestamps.\n",
    "# #self.df.dateTime = pd.to_datetime(self.df.dateTime, unit='ms').dt.strftime(Constants.DateTimeFormat)\n",
    "# df = df.set_index('dateTime', inplace=True)\n",
    "\n",
    "#     # Get rid of columns we do not need\n",
    "# df = df.drop(['closeTime', 'quoteAssetVolume', 'numberOfTrades', 'takerBuyBaseVol','takerBuyQuoteVol', 'ignore'], axis=1)\n",
    "\n",
    "df = pd.read_csv(\"LTCUSDT-5m-2021-11.csv\")\n",
    "df.columns = ['open_time', 'open', 'high', 'low', 'close', 'volume', 'close_time', 'quote_volume', 'count', 'taker_buy_volume', 'taker_buy_quote_volume', 'ignore']\n",
    "\n",
    "df = df.set_index('open_time')\n",
    "\n",
    "\n",
    "\n",
    "df = df.drop(['close_time', 'ignore'], axis=1)\n",
    "\n",
    "df\n",
    "\n"
   ]
  },
  {
   "cell_type": "markdown",
   "metadata": {},
   "source": [
    "### Calculating MACD"
   ]
  },
  {
   "cell_type": "code",
   "execution_count": 35,
   "metadata": {},
   "outputs": [],
   "source": [
    "# Get the 26-day EMA of the closing price\n",
    "k = df['close'].ewm(span=12, adjust=False, min_periods=12).mean()\n",
    "# Get the 12-day EMA of the closing price\n",
    "d = df['close'].ewm(span=26, adjust=False, min_periods=26).mean()\n",
    "# Subtract the 26-day EMA from the 12-Day EMA to get the MACD\n",
    "macd = k - d\n",
    "# Get the 9-Day EMA of the MACD for the Trigger line\n",
    "macd_s = macd.ewm(span=9, adjust=False, min_periods=9).mean()\n",
    "# Calculate the difference between the MACD - Trigger for the Convergence/Divergence value\n",
    "macd_h = macd - macd_s\n",
    "# Add all of our new values for the MACD to the dataframe\n",
    "df['macd'] = df.index.map(macd)\n",
    "df['macd_h'] = df.index.map(macd_h)\n",
    "df['macd_s'] = df.index.map(macd_s)\n",
    "\n",
    "#df.index = pd.DatetimeIndex(df['open_time'].to_period('M'))\n",
    "\n",
    "df.index = pd.to_datetime(df.index, unit='ms')\n",
    "df.index = pd.DatetimeIndex(df.index).to_period('M')\n",
    "df_test = df[floor(-0.2*len(df)): -1]\n",
    "df_train = df[0 : len(df_test)]"
   ]
  },
  {
   "cell_type": "code",
   "execution_count": 30,
   "metadata": {},
   "outputs": [
    {
     "data": {
      "image/png": "[encoded data removed]",
      "text/plain": [
       "<Figure size 640x480 with 1 Axes>"
      ]
     },
     "metadata": {},
     "output_type": "display_data"
    }
   ],
   "source": [
    "import matplotlib.pyplot as plt\n",
    "\n",
    "plt.plot(df[\"macd\"][floor(0.75*len(df)):floor(0.85 * len(df))])\n",
    "plt.show()"
   ]
  },
  {
   "cell_type": "markdown",
   "metadata": {},
   "source": [
    "### Weak learner"
   ]
  },
  {
   "cell_type": "code",
   "execution_count": 9,
   "metadata": {},
   "outputs": [],
   "source": [
    "from sklearn import tree\n",
    "from sklearn.tree import DecisionTreeClassifier\n",
    "from sklearn import preprocessing\n",
    "from sklearn import utils\n",
    "\n",
    "features = df.copy()\n",
    "target = features['macd'].dropna()\n",
    "features = features[features[\"macd\"].notna()].drop(['macd', 'macd_h', 'macd_s'], axis=1)\n",
    "\n",
    "lab = preprocessing.LabelEncoder()\n",
    "y_transformed = lab.fit_transform(target)\n",
    "y_transformed\n",
    "\n",
    "dtree = DecisionTreeClassifier()\n",
    "dtree = dtree.fit(features, y_transformed)\n",
    "\n",
    "# tree.plot_tree(dtree, feature_names=features.columns) "
   ]
  },
  {
   "cell_type": "code",
   "execution_count": 41,
   "metadata": {},
   "outputs": [
    {
     "name": "stderr",
     "output_type": "stream",
     "text": [
      "/home/olegsandrr/.local/lib/python3.10/site-packages/statsmodels/base/model.py:607: ConvergenceWarning: Maximum Likelihood optimization failed to converge. Check mle_retvals\n",
      "  warnings.warn(\"Maximum Likelihood optimization failed to \"\n"
     ]
    },
    {
     "data": {
      "text/plain": [
       "1.026352072989118"
      ]
     },
     "execution_count": 41,
     "metadata": {},
     "output_type": "execute_result"
    }
   ],
   "source": [
    "# ARIMA example\n",
    "from statsmodels.tsa.arima.model import ARIMA\n",
    "from sklearn.metrics import mean_squared_error\n",
    "from random import random\n",
    "# contrived dataset\n",
    "data = df_train['macd'].dropna()[-100:]\n",
    "# fit model\n",
    "model = ARIMA(data, order=(2, 3, 1))\n",
    "model_fit = model.fit()\n",
    "# make prediction\n",
    "# yhat = model_fit.predict(len(data), len(data), type='levels')\n",
    "# print(yhat)\n",
    "\n",
    "prediction = model_fit.forecast(26)\n",
    "#df_test[:26]\n",
    "mean_squared_error(prediction, df_test[\"macd\"][0:26])"
   ]
  },
  {
   "cell_type": "code",
   "execution_count": null,
   "metadata": {},
   "outputs": [],
   "source": [
    "prediction"
   ]
  },
  {
   "cell_type": "code",
   "execution_count": null,
   "metadata": {},
   "outputs": [],
   "source": [
    "#RNN - наверное слишком сильно для слабого ученика\n",
    "\n",
    "import numpy as np\n",
    "from keras.models import Sequential\n",
    "from keras.layers import Dense, SimpleRNN\n",
    "from sklearn.preprocessing import MinMaxScaler\n",
    "from sklearn.metrics import mean_squared_error\n",
    "import math\n",
    "import matplotlib.pyplot as plt\n",
    "\n",
    "def get_train_test(url, split_percent=0.8):\n",
    "    df = pd.read_csv(url, usecols=[1], engine='python')\n",
    "    data = np.array(df.values.astype('float32'))\n",
    "    scaler = MinMaxScaler(feature_range=(0, 1))\n",
    "    data = scaler.fit_transform(data).flatten()\n",
    "    n = len(data)\n",
    "    # Point for splitting data into train and test\n",
    "    split = int(n*split_percent)\n",
    "    train_data = data[range(split)]\n",
    "    test_data = data[split:]\n",
    "    return train_data, test_data, data\n",
    " \n",
    "# Prepare the input X and target Y\n",
    "def get_XY(dat, time_steps):\n",
    "    Y_ind = np.arange(time_steps, len(dat), time_steps)\n",
    "    Y = dat[Y_ind]\n",
    "    rows_x = len(Y)\n",
    "    X = dat[range(time_steps*rows_x)]\n",
    "    X = np.reshape(X, (rows_x, time_steps, 1))    \n",
    "    return X, Y\n",
    " \n",
    "def create_RNN(hidden_units, dense_units, input_shape, activation):\n",
    "    model = Sequential()\n",
    "    model.add(SimpleRNN(hidden_units, input_shape=input_shape, activation=activation[0]))\n",
    "    model.add(Dense(units=dense_units, activation=activation[1]))\n",
    "    model.compile(loss='mean_squared_error', optimizer='adam')\n",
    "    return model\n",
    " \n",
    "def print_error(trainY, testY, train_predict, test_predict):    \n",
    "    # Error of predictions\n",
    "    train_rmse = math.sqrt(mean_squared_error(trainY, train_predict))\n",
    "    test_rmse = math.sqrt(mean_squared_error(testY, test_predict))\n",
    "    # Print RMSE\n",
    "    print('Train RMSE: %.3f RMSE' % (train_rmse))\n",
    "    print('Test RMSE: %.3f RMSE' % (test_rmse))    \n",
    " \n",
    "# Plot the result\n",
    "def plot_result(trainY, testY, train_predict, test_predict):\n",
    "    actual = np.append(trainY, testY)\n",
    "    predictions = np.append(train_predict, test_predict)\n",
    "    rows = len(actual)\n",
    "    plt.figure(figsize=(15, 6), dpi=80)\n",
    "    plt.plot(range(rows), actual)\n",
    "    plt.plot(range(rows), predictions)\n",
    "    plt.axvline(x=len(trainY), color='r')\n",
    "    plt.legend(['Actual', 'Predictions'])\n",
    "    plt.xlabel('Observation number after given time steps')\n",
    "    plt.ylabel('Sunspots scaled')\n",
    "    plt.title('Actual and Predicted Values. The Red Line Separates The Training And Test Examples')\n",
    " \n",
    "sunspots_url = 'https://raw.githubusercontent.com/jbrownlee/Datasets/master/monthly-sunspots.csv'\n",
    "time_steps = 12\n",
    "train_data, test_data, data = get_train_test(sunspots_url)\n",
    "trainX, trainY = get_XY(train_data, time_steps)\n",
    "testX, testY = get_XY(test_data, time_steps)\n",
    " \n",
    "# Create model and train\n",
    "model = create_RNN(hidden_units=3, dense_units=1, input_shape=(time_steps,1), \n",
    "                   activation=['tanh', 'tanh'])\n",
    "model.fit(trainX, trainY, epochs=20, batch_size=1, verbose=2)\n",
    " \n",
    "# make predictions\n",
    "train_predict = model.predict(trainX)\n",
    "test_predict = model.predict(testX)\n",
    " \n",
    "# Print error\n",
    "print_error(trainY, testY, train_predict, test_predict)\n",
    " \n",
    "#Plot result\n",
    "plot_result(trainY, testY, train_predict, test_predict)"
   ]
  },
  {
   "cell_type": "markdown",
   "metadata": {},
   "source": [
    "# Bagging\n",
    "В случае временных рядов берется разное количество обучающих примеров у слабых учеников"
   ]
  },
  {
   "cell_type": "code",
   "execution_count": 46,
   "metadata": {},
   "outputs": [
    {
     "name": "stderr",
     "output_type": "stream",
     "text": [
      "/home/olegsandrr/.local/lib/python3.10/site-packages/statsmodels/base/model.py:607: ConvergenceWarning: Maximum Likelihood optimization failed to converge. Check mle_retvals\n",
      "  warnings.warn(\"Maximum Likelihood optimization failed to \"\n",
      "/home/olegsandrr/.local/lib/python3.10/site-packages/statsmodels/base/model.py:607: ConvergenceWarning: Maximum Likelihood optimization failed to converge. Check mle_retvals\n",
      "  warnings.warn(\"Maximum Likelihood optimization failed to \"\n"
     ]
    },
    {
     "name": "stdout",
     "output_type": "stream",
     "text": [
      "0.9524393141860104\n",
      "\n",
      "0.8844978619574858\n",
      "\n"
     ]
    },
    {
     "name": "stderr",
     "output_type": "stream",
     "text": [
      "/home/olegsandrr/.local/lib/python3.10/site-packages/statsmodels/base/model.py:607: ConvergenceWarning: Maximum Likelihood optimization failed to converge. Check mle_retvals\n",
      "  warnings.warn(\"Maximum Likelihood optimization failed to \"\n"
     ]
    },
    {
     "name": "stdout",
     "output_type": "stream",
     "text": [
      "0.9790410245731456\n",
      "\n",
      "1.0099519855972912\n",
      "\n"
     ]
    },
    {
     "name": "stderr",
     "output_type": "stream",
     "text": [
      "/home/olegsandrr/.local/lib/python3.10/site-packages/statsmodels/base/model.py:607: ConvergenceWarning: Maximum Likelihood optimization failed to converge. Check mle_retvals\n",
      "  warnings.warn(\"Maximum Likelihood optimization failed to \"\n",
      "/home/olegsandrr/.local/lib/python3.10/site-packages/statsmodels/base/model.py:607: ConvergenceWarning: Maximum Likelihood optimization failed to converge. Check mle_retvals\n",
      "  warnings.warn(\"Maximum Likelihood optimization failed to \"\n"
     ]
    },
    {
     "name": "stdout",
     "output_type": "stream",
     "text": [
      "1.0790803729577105\n",
      "\n",
      "1.0304809209385934\n",
      "\n"
     ]
    },
    {
     "name": "stderr",
     "output_type": "stream",
     "text": [
      "/home/olegsandrr/.local/lib/python3.10/site-packages/statsmodels/base/model.py:607: ConvergenceWarning: Maximum Likelihood optimization failed to converge. Check mle_retvals\n",
      "  warnings.warn(\"Maximum Likelihood optimization failed to \"\n"
     ]
    },
    {
     "name": "stdout",
     "output_type": "stream",
     "text": [
      "1.0780851257811703\n",
      "\n",
      "1.0746190093224124\n",
      "\n",
      "1.0793689577284884\n",
      "\n"
     ]
    },
    {
     "name": "stderr",
     "output_type": "stream",
     "text": [
      "/home/olegsandrr/.local/lib/python3.10/site-packages/statsmodels/base/model.py:607: ConvergenceWarning: Maximum Likelihood optimization failed to converge. Check mle_retvals\n",
      "  warnings.warn(\"Maximum Likelihood optimization failed to \"\n"
     ]
    },
    {
     "ename": "ValueError",
     "evalue": "Found input variables with inconsistent numbers of samples: [10, 26]",
     "output_type": "error",
     "traceback": [
      "\u001b[0;31m---------------------------------------------------------------------------\u001b[0m",
      "\u001b[0;31mValueError\u001b[0m                                Traceback (most recent call last)",
      "\u001b[1;32m/home/olegsandrr/Documents/MACD_Forecast/visualisation.ipynb Cell 11\u001b[0m line \u001b[0;36m1\n\u001b[1;32m     <a href='vscode-notebook-cell:/home/olegsandrr/Documents/MACD_Forecast/visualisation.ipynb#X13sZmlsZQ%3D%3D?line=13'>14</a>\u001b[0m     \u001b[39mprint\u001b[39m(\u001b[39mstr\u001b[39m(mean_squared_error(predictions[i \u001b[39m-\u001b[39m \u001b[39m1\u001b[39m], df_test[\u001b[39m\"\u001b[39m\u001b[39mmacd\u001b[39m\u001b[39m\"\u001b[39m][\u001b[39m0\u001b[39m:\u001b[39m26\u001b[39m])) \u001b[39m+\u001b[39m \u001b[39m'\u001b[39m\u001b[39m\\n\u001b[39;00m\u001b[39m'\u001b[39m)\n\u001b[1;32m     <a href='vscode-notebook-cell:/home/olegsandrr/Documents/MACD_Forecast/visualisation.ipynb#X13sZmlsZQ%3D%3D?line=15'>16</a>\u001b[0m ensemble_prediction \u001b[39m=\u001b[39m predictions\u001b[39m.\u001b[39mmean(\u001b[39m1\u001b[39m)\n\u001b[0;32m---> <a href='vscode-notebook-cell:/home/olegsandrr/Documents/MACD_Forecast/visualisation.ipynb#X13sZmlsZQ%3D%3D?line=16'>17</a>\u001b[0m \u001b[39mprint\u001b[39m(\u001b[39m'\u001b[39m\u001b[39mensemble prediction: \u001b[39m\u001b[39m'\u001b[39m \u001b[39m+\u001b[39m \u001b[39mstr\u001b[39m(mean_squared_error(ensemble_prediction, df_test[\u001b[39m\"\u001b[39;49m\u001b[39mmacd\u001b[39;49m\u001b[39m\"\u001b[39;49m][\u001b[39m0\u001b[39;49m:\u001b[39m26\u001b[39;49m])))\n",
      "File \u001b[0;32m~/.local/lib/python3.10/site-packages/sklearn/utils/_param_validation.py:211\u001b[0m, in \u001b[0;36mvalidate_params.<locals>.decorator.<locals>.wrapper\u001b[0;34m(*args, **kwargs)\u001b[0m\n\u001b[1;32m    205\u001b[0m \u001b[39mtry\u001b[39;00m:\n\u001b[1;32m    206\u001b[0m     \u001b[39mwith\u001b[39;00m config_context(\n\u001b[1;32m    207\u001b[0m         skip_parameter_validation\u001b[39m=\u001b[39m(\n\u001b[1;32m    208\u001b[0m             prefer_skip_nested_validation \u001b[39mor\u001b[39;00m global_skip_validation\n\u001b[1;32m    209\u001b[0m         )\n\u001b[1;32m    210\u001b[0m     ):\n\u001b[0;32m--> 211\u001b[0m         \u001b[39mreturn\u001b[39;00m func(\u001b[39m*\u001b[39;49margs, \u001b[39m*\u001b[39;49m\u001b[39m*\u001b[39;49mkwargs)\n\u001b[1;32m    212\u001b[0m \u001b[39mexcept\u001b[39;00m InvalidParameterError \u001b[39mas\u001b[39;00m e:\n\u001b[1;32m    213\u001b[0m     \u001b[39m# When the function is just a wrapper around an estimator, we allow\u001b[39;00m\n\u001b[1;32m    214\u001b[0m     \u001b[39m# the function to delegate validation to the estimator, but we replace\u001b[39;00m\n\u001b[1;32m    215\u001b[0m     \u001b[39m# the name of the estimator by the name of the function in the error\u001b[39;00m\n\u001b[1;32m    216\u001b[0m     \u001b[39m# message to avoid confusion.\u001b[39;00m\n\u001b[1;32m    217\u001b[0m     msg \u001b[39m=\u001b[39m re\u001b[39m.\u001b[39msub(\n\u001b[1;32m    218\u001b[0m         \u001b[39mr\u001b[39m\u001b[39m\"\u001b[39m\u001b[39mparameter of \u001b[39m\u001b[39m\\\u001b[39m\u001b[39mw+ must be\u001b[39m\u001b[39m\"\u001b[39m,\n\u001b[1;32m    219\u001b[0m         \u001b[39mf\u001b[39m\u001b[39m\"\u001b[39m\u001b[39mparameter of \u001b[39m\u001b[39m{\u001b[39;00mfunc\u001b[39m.\u001b[39m\u001b[39m__qualname__\u001b[39m\u001b[39m}\u001b[39;00m\u001b[39m must be\u001b[39m\u001b[39m\"\u001b[39m,\n\u001b[1;32m    220\u001b[0m         \u001b[39mstr\u001b[39m(e),\n\u001b[1;32m    221\u001b[0m     )\n",
      "File \u001b[0;32m~/.local/lib/python3.10/site-packages/sklearn/metrics/_regression.py:474\u001b[0m, in \u001b[0;36mmean_squared_error\u001b[0;34m(y_true, y_pred, sample_weight, multioutput, squared)\u001b[0m\n\u001b[1;32m    404\u001b[0m \u001b[39m@validate_params\u001b[39m(\n\u001b[1;32m    405\u001b[0m     {\n\u001b[1;32m    406\u001b[0m         \u001b[39m\"\u001b[39m\u001b[39my_true\u001b[39m\u001b[39m\"\u001b[39m: [\u001b[39m\"\u001b[39m\u001b[39marray-like\u001b[39m\u001b[39m\"\u001b[39m],\n\u001b[0;32m   (...)\u001b[0m\n\u001b[1;32m    415\u001b[0m     y_true, y_pred, \u001b[39m*\u001b[39m, sample_weight\u001b[39m=\u001b[39m\u001b[39mNone\u001b[39;00m, multioutput\u001b[39m=\u001b[39m\u001b[39m\"\u001b[39m\u001b[39muniform_average\u001b[39m\u001b[39m\"\u001b[39m, squared\u001b[39m=\u001b[39m\u001b[39mTrue\u001b[39;00m\n\u001b[1;32m    416\u001b[0m ):\n\u001b[1;32m    417\u001b[0m \u001b[39m    \u001b[39m\u001b[39m\"\"\"Mean squared error regression loss.\u001b[39;00m\n\u001b[1;32m    418\u001b[0m \n\u001b[1;32m    419\u001b[0m \u001b[39m    Read more in the :ref:`User Guide <mean_squared_error>`.\u001b[39;00m\n\u001b[0;32m   (...)\u001b[0m\n\u001b[1;32m    472\u001b[0m \u001b[39m    0.825...\u001b[39;00m\n\u001b[1;32m    473\u001b[0m \u001b[39m    \"\"\"\u001b[39;00m\n\u001b[0;32m--> 474\u001b[0m     y_type, y_true, y_pred, multioutput \u001b[39m=\u001b[39m _check_reg_targets(\n\u001b[1;32m    475\u001b[0m         y_true, y_pred, multioutput\n\u001b[1;32m    476\u001b[0m     )\n\u001b[1;32m    477\u001b[0m     check_consistent_length(y_true, y_pred, sample_weight)\n\u001b[1;32m    478\u001b[0m     output_errors \u001b[39m=\u001b[39m np\u001b[39m.\u001b[39maverage((y_true \u001b[39m-\u001b[39m y_pred) \u001b[39m*\u001b[39m\u001b[39m*\u001b[39m \u001b[39m2\u001b[39m, axis\u001b[39m=\u001b[39m\u001b[39m0\u001b[39m, weights\u001b[39m=\u001b[39msample_weight)\n",
      "File \u001b[0;32m~/.local/lib/python3.10/site-packages/sklearn/metrics/_regression.py:99\u001b[0m, in \u001b[0;36m_check_reg_targets\u001b[0;34m(y_true, y_pred, multioutput, dtype)\u001b[0m\n\u001b[1;32m     65\u001b[0m \u001b[39mdef\u001b[39;00m \u001b[39m_check_reg_targets\u001b[39m(y_true, y_pred, multioutput, dtype\u001b[39m=\u001b[39m\u001b[39m\"\u001b[39m\u001b[39mnumeric\u001b[39m\u001b[39m\"\u001b[39m):\n\u001b[1;32m     66\u001b[0m \u001b[39m    \u001b[39m\u001b[39m\"\"\"Check that y_true and y_pred belong to the same regression task.\u001b[39;00m\n\u001b[1;32m     67\u001b[0m \n\u001b[1;32m     68\u001b[0m \u001b[39m    Parameters\u001b[39;00m\n\u001b[0;32m   (...)\u001b[0m\n\u001b[1;32m     97\u001b[0m \u001b[39m        correct keyword.\u001b[39;00m\n\u001b[1;32m     98\u001b[0m \u001b[39m    \"\"\"\u001b[39;00m\n\u001b[0;32m---> 99\u001b[0m     check_consistent_length(y_true, y_pred)\n\u001b[1;32m    100\u001b[0m     y_true \u001b[39m=\u001b[39m check_array(y_true, ensure_2d\u001b[39m=\u001b[39m\u001b[39mFalse\u001b[39;00m, dtype\u001b[39m=\u001b[39mdtype)\n\u001b[1;32m    101\u001b[0m     y_pred \u001b[39m=\u001b[39m check_array(y_pred, ensure_2d\u001b[39m=\u001b[39m\u001b[39mFalse\u001b[39;00m, dtype\u001b[39m=\u001b[39mdtype)\n",
      "File \u001b[0;32m~/.local/lib/python3.10/site-packages/sklearn/utils/validation.py:409\u001b[0m, in \u001b[0;36mcheck_consistent_length\u001b[0;34m(*arrays)\u001b[0m\n\u001b[1;32m    407\u001b[0m uniques \u001b[39m=\u001b[39m np\u001b[39m.\u001b[39munique(lengths)\n\u001b[1;32m    408\u001b[0m \u001b[39mif\u001b[39;00m \u001b[39mlen\u001b[39m(uniques) \u001b[39m>\u001b[39m \u001b[39m1\u001b[39m:\n\u001b[0;32m--> 409\u001b[0m     \u001b[39mraise\u001b[39;00m \u001b[39mValueError\u001b[39;00m(\n\u001b[1;32m    410\u001b[0m         \u001b[39m\"\u001b[39m\u001b[39mFound input variables with inconsistent numbers of samples: \u001b[39m\u001b[39m%r\u001b[39;00m\u001b[39m\"\u001b[39m\n\u001b[1;32m    411\u001b[0m         \u001b[39m%\u001b[39m [\u001b[39mint\u001b[39m(l) \u001b[39mfor\u001b[39;00m l \u001b[39min\u001b[39;00m lengths]\n\u001b[1;32m    412\u001b[0m     )\n",
      "\u001b[0;31mValueError\u001b[0m: Found input variables with inconsistent numbers of samples: [10, 26]"
     ]
    }
   ],
   "source": [
    "num_of_models = 10\n",
    "prediction_size = 26\n",
    "errors = np.empty(num_of_models)\n",
    "predictions = np.empty((num_of_models, prediction_size))\n",
    "#models = [num_of_models]\n",
    "for i in range(1, num_of_models):\n",
    "    data = df_train['macd'].dropna()[-100 * i:]\n",
    "    # fit model\n",
    "    models = ARIMA(data, order=(2, 3, 1))\n",
    "    model_fit = models.fit()\n",
    "    # make prediction\n",
    "\n",
    "    predictions[i - 1] = model_fit.forecast(prediction_size)\n",
    "    print(str(mean_squared_error(predictions[i - 1], df_test[\"macd\"][0:26])) + '\\n')\n",
    "\n",
    "ensemble_prediction = predictions.mean(1)\n",
    "print('ensemble prediction: ' + str(mean_squared_error(ensemble_prediction, df_test[\"macd\"][0:26])))"
   ]
  },
  {
   "cell_type": "code",
   "execution_count": null,
   "metadata": {},
   "outputs": [],
   "source": [
    "# params = {'num_leaves': 30,\n",
    "#           'n_estimators': 400,\n",
    "#           'max_depth': 8,\n",
    "#           'min_child_samples': 200,\n",
    "#           'learning_rate': 0.1,\n",
    "#           'subsample': 0.50,\n",
    "#           'colsample_bytree': 0.75\n",
    "#          }\n",
    "\n",
    "\n",
    "# model = lgb.LGBMRegressor(**params)\n",
    "# model = model.fit(x_train.drop(columns=['timestamp']), y_train)"
   ]
  },
  {
   "cell_type": "markdown",
   "metadata": {},
   "source": [
    "# Real-time predictions\n",
    "\n",
    "Цикл, где я предсказываю некое количество шагов, потом двигаюсь на один период вперед и добавляю его к модели?"
   ]
  }
 ],
 "metadata": {
  "kernelspec": {
   "display_name": "Python 3",
   "language": "python",
   "name": "python3"
  },
  "language_info": {
   "codemirror_mode": {
    "name": "ipython",
    "version": 3
   },
   "file_extension": ".py",
   "mimetype": "text/x-python",
   "name": "python",
   "nbconvert_exporter": "python",
   "pygments_lexer": "ipython3",
   "version": "3.10.12"
  }
 },
 "nbformat": 4,
 "nbformat_minor": 2
}
